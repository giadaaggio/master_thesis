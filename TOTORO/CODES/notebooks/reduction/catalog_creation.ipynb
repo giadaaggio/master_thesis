{
 "cells": [
  {
   "cell_type": "code",
   "execution_count": 1,
   "metadata": {},
   "outputs": [],
   "source": [
    "import pandas as pd\n",
    "import matplotlib.pyplot as plt\n",
    "\n",
    "%matplotlib widget"
   ]
  },
  {
   "cell_type": "code",
   "execution_count": 2,
   "metadata": {},
   "outputs": [],
   "source": [
    "def read_data(input_file, filter):\n",
    "    # read the data from the input file\n",
    "    data = pd.read_csv(input_file, header=None, delim_whitespace=True, usecols=[2, 3, 4, 5, 6, 15], names=['dx', 'dy', 'x', 'y', 'F814W', filter])\n",
    "\n",
    "    # rough data selection\n",
    "    data['dx'] = pd.to_numeric(data['dx'], errors='coerce')\n",
    "    data['dy'] = pd.to_numeric(data['dy'], errors='coerce')\n",
    "\n",
    "    # add a column with the dr=sqrt(dx**2+dy**2)\n",
    "    data['dr'] = (data['dx']**2 + data['dy']**2)**0.5\n",
    "    # select only the lines with dr<0.5\n",
    "    data = data[data['dr'] < 0.5]\n",
    "\n",
    "    return data"
   ]
  },
  {
   "cell_type": "code",
   "execution_count": 3,
   "metadata": {},
   "outputs": [],
   "source": [
    "input_225 = '/Users/giadaaggio/Desktop/Thesis/TOTORO/FITS/Catalogs/F225W.lnk'\n",
    "input_275 = '/Users/giadaaggio/Desktop/Thesis/TOTORO/FITS/Catalogs/F275W.lnk'\n",
    "input_336 = '/Users/giadaaggio/Desktop/Thesis/TOTORO/FITS/Catalogs/F336W.lnk'\n",
    "input_475 = '/Users/giadaaggio/Desktop/Thesis/TOTORO/FITS/Catalogs/F475W.lnk'\n",
    "input_555 = '/Users/giadaaggio/Desktop/Thesis/TOTORO/FITS/Catalogs/F555W.lnk'"
   ]
  },
  {
   "cell_type": "code",
   "execution_count": 4,
   "metadata": {},
   "outputs": [
    {
     "name": "stderr",
     "output_type": "stream",
     "text": [
      "/var/folders/nx/ljvhqy816sn3y2d3hzwxcqhc0000gn/T/ipykernel_4125/563557783.py:3: DtypeWarning: Columns (2) have mixed types. Specify dtype option on import or set low_memory=False.\n",
      "  data = pd.read_csv(input_file, header=None, delim_whitespace=True, usecols=[2, 3, 4, 5, 6, 15], names=['dx', 'dy', 'x', 'y', 'F814W', filter])\n",
      "/var/folders/nx/ljvhqy816sn3y2d3hzwxcqhc0000gn/T/ipykernel_4125/563557783.py:3: DtypeWarning: Columns (2) have mixed types. Specify dtype option on import or set low_memory=False.\n",
      "  data = pd.read_csv(input_file, header=None, delim_whitespace=True, usecols=[2, 3, 4, 5, 6, 15], names=['dx', 'dy', 'x', 'y', 'F814W', filter])\n",
      "/var/folders/nx/ljvhqy816sn3y2d3hzwxcqhc0000gn/T/ipykernel_4125/563557783.py:3: DtypeWarning: Columns (2) have mixed types. Specify dtype option on import or set low_memory=False.\n",
      "  data = pd.read_csv(input_file, header=None, delim_whitespace=True, usecols=[2, 3, 4, 5, 6, 15], names=['dx', 'dy', 'x', 'y', 'F814W', filter])\n",
      "/var/folders/nx/ljvhqy816sn3y2d3hzwxcqhc0000gn/T/ipykernel_4125/563557783.py:3: DtypeWarning: Columns (2) have mixed types. Specify dtype option on import or set low_memory=False.\n",
      "  data = pd.read_csv(input_file, header=None, delim_whitespace=True, usecols=[2, 3, 4, 5, 6, 15], names=['dx', 'dy', 'x', 'y', 'F814W', filter])\n",
      "/var/folders/nx/ljvhqy816sn3y2d3hzwxcqhc0000gn/T/ipykernel_4125/563557783.py:3: DtypeWarning: Columns (2) have mixed types. Specify dtype option on import or set low_memory=False.\n",
      "  data = pd.read_csv(input_file, header=None, delim_whitespace=True, usecols=[2, 3, 4, 5, 6, 15], names=['dx', 'dy', 'x', 'y', 'F814W', filter])\n"
     ]
    }
   ],
   "source": [
    "data_225 = read_data(input_225, 'F225W')\n",
    "data_275 = read_data(input_275, 'F275W')\n",
    "data_336 = read_data(input_336, 'F336W')\n",
    "data_475 = read_data(input_475, 'F475W')\n",
    "data_555 = read_data(input_555, 'F555W')"
   ]
  },
  {
   "cell_type": "code",
   "execution_count": 5,
   "metadata": {},
   "outputs": [
    {
     "name": "stdout",
     "output_type": "stream",
     "text": [
      "            dx      dy        x        y   F814W    F555W        dr\n",
      "0      -0.0062  0.0348  5894.85  1143.01 -10.457 -10.1313  0.035348\n",
      "1      -0.1718 -0.1423  5787.07  1148.84  -7.412  -5.5141  0.223080\n",
      "2       0.0458  0.0361  5823.93  1157.60  -8.794  -8.1857  0.058317\n",
      "3       0.0159  0.0483  5832.33  1157.62  -9.674  -9.2376  0.050850\n",
      "8       0.0711  0.1294  5678.37  1164.50  -7.632  -6.2844  0.147647\n",
      "...        ...     ...      ...      ...     ...      ...       ...\n",
      "248123  0.0061 -0.0319  8905.37  8929.01 -10.120  -9.7397  0.032478\n",
      "248124  0.1297  0.0349  8825.94  8930.33  -7.115  -6.0388  0.134313\n",
      "248126  0.0092 -0.0596  8816.49  8931.44  -8.155  -7.3086  0.060306\n",
      "248128 -0.0106  0.2543  8995.33  8931.32  -7.360  -6.4984  0.254521\n",
      "248129  0.0429 -0.0319  9016.47  8935.28  -9.973  -9.4902  0.053460\n",
      "\n",
      "[92374 rows x 7 columns]\n"
     ]
    }
   ],
   "source": [
    "print(data_555)"
   ]
  },
  {
   "cell_type": "code",
   "execution_count": 8,
   "metadata": {},
   "outputs": [],
   "source": [
    "catalog = pd.DataFrame({\n",
    "    'x' : data_555['x'],\n",
    "    'y' : data_555['y'],\n",
    "    'F814W' : data_555['F814W'],\n",
    "    'F225W' : data_225['F225W'],\n",
    "    'F275W' : data_275['F275W'],\n",
    "    'F336W' : data_336['F336W'],\n",
    "    'F475W' : data_475['F475W'],\n",
    "    'F555W' : data_555['F555W']\n",
    "})"
   ]
  },
  {
   "cell_type": "code",
   "execution_count": 9,
   "metadata": {},
   "outputs": [
    {
     "name": "stdout",
     "output_type": "stream",
     "text": [
      "(95413, 8)\n"
     ]
    }
   ],
   "source": [
    "print(catalog.shape)"
   ]
  },
  {
   "cell_type": "code",
   "execution_count": 10,
   "metadata": {},
   "outputs": [
    {
     "name": "stdout",
     "output_type": "stream",
     "text": [
      "              x        y   F814W   F225W   F275W   F336W   F475W    F555W\n",
      "0       5894.85  1143.01 -10.457 -6.3218 -6.2434 -7.0835 -9.8819 -10.1313\n",
      "1       5787.07  1148.84  -7.412     NaN     NaN     NaN     NaN  -5.5141\n",
      "2       5823.93  1157.60  -8.794     NaN     NaN     NaN -7.7546  -8.1857\n",
      "3       5832.33  1157.62  -9.674     NaN -5.3449 -6.1193 -8.8504  -9.2376\n",
      "8       5678.37  1164.50  -7.632     NaN     NaN     NaN -6.0920  -6.2844\n",
      "...         ...      ...     ...     ...     ...     ...     ...      ...\n",
      "248123  8905.37  8929.01 -10.120     NaN     NaN     NaN     NaN  -9.7397\n",
      "248124  8825.94  8930.33  -7.115     NaN     NaN     NaN     NaN  -6.0388\n",
      "248126  8816.49  8931.44  -8.155     NaN     NaN     NaN     NaN  -7.3086\n",
      "248128  8995.33  8931.32  -7.360     NaN     NaN     NaN     NaN  -6.4984\n",
      "248129  9016.47  8935.28  -9.973     NaN     NaN     NaN     NaN  -9.4902\n",
      "\n",
      "[95413 rows x 8 columns]\n"
     ]
    }
   ],
   "source": [
    "print(catalog)"
   ]
  },
  {
   "cell_type": "code",
   "execution_count": 11,
   "metadata": {},
   "outputs": [],
   "source": [
    "catalog.to_csv('/Users/giadaaggio/Desktop/Thesis/TOTORO/FITS/Catalogs/catalog.xym', sep='\\t', index=False)"
   ]
  }
 ],
 "metadata": {
  "kernelspec": {
   "display_name": "astrolab2",
   "language": "python",
   "name": "python3"
  },
  "language_info": {
   "codemirror_mode": {
    "name": "ipython",
    "version": 3
   },
   "file_extension": ".py",
   "mimetype": "text/x-python",
   "name": "python",
   "nbconvert_exporter": "python",
   "pygments_lexer": "ipython3",
   "version": "3.9.18"
  }
 },
 "nbformat": 4,
 "nbformat_minor": 2
}
